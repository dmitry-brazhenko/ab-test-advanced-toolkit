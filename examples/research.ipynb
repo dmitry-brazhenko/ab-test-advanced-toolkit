{
 "cells": [
  {
   "cell_type": "code",
   "execution_count": 1,
   "metadata": {},
   "outputs": [],
   "source": [
    "import sys\n",
    "sys.path.append(\"../\")"
   ]
  },
  {
   "cell_type": "code",
   "execution_count": 2,
   "metadata": {},
   "outputs": [],
   "source": [
    "import numpy as np\n",
    "from experiment_analysis import analyze_and_plot_features"
   ]
  },
  {
   "cell_type": "markdown",
   "metadata": {},
   "source": [
    "# Server "
   ]
  },
  {
   "cell_type": "code",
   "execution_count": null,
   "metadata": {},
   "outputs": [],
   "source": [
    "# Define fixed parameters that do not change during the analysis\n",
    "fixed_params = {\n",
    "    'countries': ['US', 'UK', 'DE', 'FR', 'CA', 'AU', 'JP', 'IN'],  # List of countries to be analyzed\n",
    "    'platforms': ['iOS', 'Android', 'Web', 'Desktop'],  # Platforms to be included in the analysis\n",
    "    'user_segments': ['Segment_1', 'Segment_2', 'Segment_3', 'Segment_4'],  # User segments to be considered\n",
    "    'ab_groups': ['a1', 'b'],  # A/B test groups\n",
    "}\n",
    "\n",
    "# Define parameters with ranges\n",
    "varying_params = {\n",
    "    'base_increase_percentage': np.arange(0.0, 0.1, 0.01),  # Range of base increase percentages to be analyzed\n",
    "    'noise_level': np.arange(0.0, 1, 0.1),\n",
    "    'alpha': np.arange(0.0, 1, 0.1),\n",
    "}\n",
    "\n",
    "# Define parameters with ranges to be used as the X-axis\n",
    "x_params = {\n",
    "    'num_users': np.arange(10, 6000, 200)  # Range of user numbers to be used on the X-axis\n",
    "}\n",
    "\n",
    "# Call the function to analyze and plot for all selected features\n",
    "analyze_and_plot_features(\n",
    "    fixed_params, \n",
    "    varying_params, \n",
    "    x_params, \n",
    "    num_iterations=10,  # Number of iterations to perform for each analysis\n",
    ")\n"
   ]
  },
  {
   "cell_type": "code",
   "execution_count": null,
   "metadata": {},
   "outputs": [],
   "source": []
  },
  {
   "cell_type": "code",
   "execution_count": null,
   "metadata": {},
   "outputs": [],
   "source": []
  }
 ],
 "metadata": {
  "kernelspec": {
   "display_name": "Python 3 (ipykernel)",
   "language": "python",
   "name": "python3"
  },
  "language_info": {
   "codemirror_mode": {
    "name": "ipython",
    "version": 3
   },
   "file_extension": ".py",
   "mimetype": "text/x-python",
   "name": "python",
   "nbconvert_exporter": "python",
   "pygments_lexer": "ipython3",
   "version": "3.11.6"
  }
 },
 "nbformat": 4,
 "nbformat_minor": 4
}
